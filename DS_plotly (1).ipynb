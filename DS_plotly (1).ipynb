{
  "nbformat": 4,
  "nbformat_minor": 0,
  "metadata": {
    "colab": {
      "provenance": []
    },
    "kernelspec": {
      "name": "python3",
      "display_name": "Python 3"
    },
    "language_info": {
      "name": "python"
    }
  },
  "cells": [
    {
      "cell_type": "code",
      "source": [
        "from bokeh.plotting import figure, show\n",
        "from bokeh.io import output_file\n",
        "from bokeh.models import ColumnDataSource\n",
        "from bokeh.layouts import column\n",
        "from bokeh.palettes import Spectral11\n",
        "from bokeh.models import Slider\n",
        "from bokeh.plotting import curdoc\n",
        "\n",
        "# Q1: Creating a basic Bokeh plot\n",
        "output_file(\"bokeh_plot.html\")\n",
        "p = figure(title=\"Simple Bokeh Plot\", x_axis_label='X-Axis', y_axis_label='Y-Axis')\n",
        "p.line([1, 2, 3, 4], [10, 20, 30, 40], legend_label=\"Line\", line_width=2)\n",
        "show(p)\n",
        "\n",
        "# Q2: Using scatter() method instead of circle() to avoid deprecation\n",
        "p2 = figure(title=\"Scatter Plot with Glyphs\", x_axis_label='X-Axis', y_axis_label='Y-Axis')\n",
        "p2.scatter([1, 2, 3, 4], [10, 20, 30, 40], size=10, color=Spectral11[0], legend_label=\"Scatter Glyphs\")\n",
        "show(p2)\n",
        "\n",
        "# Q3: Customizing the Bokeh plot appearance\n",
        "p3 = figure(title=\"Customized Bokeh Plot\", x_axis_label='X-Axis', y_axis_label='Y-Axis')\n",
        "p3.line([1, 2, 3, 4], [10, 20, 30, 40], legend_label=\"Line\", line_width=3, line_color=\"green\")\n",
        "p3.title.text_font_size = \"20px\"\n",
        "p3.xaxis.axis_label_text_font_size = \"15px\"\n",
        "p3.yaxis.axis_label_text_font_size = \"15px\"\n",
        "p3.legend.title = \"Legend\"\n",
        "show(p3)\n",
        "\n",
        "# Q4: Using column() to replace widgetbox for interactive Bokeh plot\n",
        "def update_plot(attr, old_range, new_range):\n",
        "    p4.y_range.start = new_range\n",
        "\n",
        "slider = Slider(start=0, end=20, value=10, step=1, title=\"Y-Axis Range\")\n",
        "slider.on_change('value', update_plot)\n",
        "\n",
        "p4 = figure(title=\"Interactive Plot with Bokeh Server\", x_axis_label='X-Axis', y_axis_label='Y-Axis')\n",
        "p4.line([1, 2, 3, 4], [10, 20, 30, 40], legend_label=\"Line\", line_width=2)\n",
        "\n",
        "# Using column() to add slider to the layout\n",
        "curdoc().add_root(column(slider, p4))\n",
        "\n",
        "# Q5: Embedding Bokeh plot into Flask (use column for layout)\n",
        "from bokeh.embed import components\n",
        "\n",
        "def generate_bokeh_plot():\n",
        "    p5 = figure(title=\"Flask Bokeh Plot\", x_axis_label='X-Axis', y_axis_label='Y-Axis')\n",
        "    p5.line([1, 2, 3, 4], [10, 20, 30, 40], legend_label=\"Line\", line_width=2)\n",
        "    script, div = components(p5)\n",
        "    return script, div\n",
        "\n",
        "# Flask example (simplified for embedding)\n",
        "from flask import Flask, render_template_string\n",
        "\n",
        "app = Flask(__name__)\n",
        "\n",
        "@app.route('/')\n",
        "def index():\n",
        "    script, div = generate_bokeh_plot()\n",
        "    return render_template_string(\"\"\"\n",
        "        <html>\n",
        "            <head>{{ script|safe }}</head>\n",
        "            <body>{{ div|safe }}</body>\n",
        "        </html>\n",
        "    \"\"\", script=script, div=div)\n",
        "\n",
        "if __name__ == '__main__':\n",
        "    app.run(debug=True)\n",
        "\n"
      ],
      "metadata": {
        "colab": {
          "base_uri": "https://localhost:8080/"
        },
        "id": "pFj9XPWIz06t",
        "outputId": "b13ec3bb-614f-4e7f-96ef-0f3cfd84f164"
      },
      "execution_count": null,
      "outputs": [
        {
          "output_type": "stream",
          "name": "stdout",
          "text": [
            " * Serving Flask app '__main__'\n",
            " * Debug mode: on\n"
          ]
        },
        {
          "output_type": "stream",
          "name": "stderr",
          "text": [
            "INFO:werkzeug:\u001b[31m\u001b[1mWARNING: This is a development server. Do not use it in a production deployment. Use a production WSGI server instead.\u001b[0m\n",
            " * Running on http://127.0.0.1:5000\n",
            "INFO:werkzeug:\u001b[33mPress CTRL+C to quit\u001b[0m\n",
            "INFO:werkzeug: * Restarting with stat\n"
          ]
        }
      ]
    },
    {
      "cell_type": "code",
      "source": [],
      "metadata": {
        "id": "CiM65TH6W9kv"
      },
      "execution_count": null,
      "outputs": []
    }
  ]
}