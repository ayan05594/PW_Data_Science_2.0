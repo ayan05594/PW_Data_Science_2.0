{
  "nbformat": 4,
  "nbformat_minor": 0,
  "metadata": {
    "colab": {
      "provenance": []
    },
    "kernelspec": {
      "name": "python3",
      "display_name": "Python 3"
    },
    "language_info": {
      "name": "python"
    }
  },
  "cells": [
    {
      "cell_type": "markdown",
      "source": [],
      "metadata": {
        "id": "7nV0-aAUNtaw"
      }
    },
    {
      "cell_type": "code",
      "source": [
        "# Q1: Assumptions of ANOVA\n",
        "\"\"\"\n",
        "The assumptions for ANOVA include:\n",
        "1. Independence: Observations are independent of each other.\n",
        "   Example Violation: Participants in different groups influencing each other.\n",
        "2. Normality: The data within each group should follow a normal distribution.\n",
        "   Example Violation: Skewed data in one group.\n",
        "3. Homogeneity of Variance: Variances across groups should be equal.\n",
        "   Example Violation: One group having significantly higher variance than others.\n",
        "\n",
        "Violations can lead to incorrect conclusions. Non-parametric tests like Kruskal-Wallis can be alternatives when assumptions are violated.\n",
        "\"\"\"\n",
        "\n",
        "# Q2: Types of ANOVA\n",
        "\"\"\"\n",
        "1. One-Way ANOVA: Tests for differences among means of more than two groups.\n",
        "   Example: Comparing the test scores of students in three different schools.\n",
        "2. Two-Way ANOVA: Tests for main effects and interaction effects of two independent variables.\n",
        "   Example: Comparing test scores by teaching method and gender.\n",
        "3. Repeated Measures ANOVA: Tests for differences in means within the same subjects over time or conditions.\n",
        "   Example: Measuring blood pressure before, during, and after a treatment.\n",
        "\"\"\"\n",
        "\n",
        "# Q3: Partitioning of Variance in ANOVA\n",
        "\"\"\"\n",
        "Partitioning variance involves decomposing the total variance (SST) into:\n",
        "1. Explained Variance (SSE): Variance due to differences between group means.\n",
        "2. Residual Variance (SSR): Variance within groups.\n",
        "\n",
        "Understanding this helps determine whether differences between groups are significant or due to random variation.\n",
        "\"\"\"\n",
        "\n",
        "# Q4: Calculate SST, SSE, and SSR in Python\n",
        "import numpy as np\n",
        "\n",
        "# Example data\n",
        "data = {'Group A': [5, 6, 7], 'Group B': [8, 9, 10], 'Group C': [11, 12, 13]}\n",
        "all_data = np.concatenate(list(data.values()))\n",
        "overall_mean = np.mean(all_data)\n",
        "\n",
        "# SST\n",
        "sst = sum((x - overall_mean) ** 2 for x in all_data)\n",
        "\n",
        "# SSE\n",
        "sse = sum(len(group) * (np.mean(group) - overall_mean) ** 2 for group in data.values())\n",
        "\n",
        "# SSR\n",
        "ssr = sst - sse\n",
        "\"\"\"\n",
        "SST: (sst), SSE: (sse), SSR: (ssr)\n",
        "\"\"\"\n",
        "\n",
        "# Q5: Main Effects and Interaction Effects in Two-Way ANOVA\n",
        "import statsmodels.api as sm\n",
        "from statsmodels.formula.api import ols\n",
        "import pandas as pd\n",
        "\n",
        "# Example dataset for Two-Way ANOVA\n",
        "data = pd.DataFrame({\n",
        "    'Program': ['A', 'A', 'B', 'B', 'C', 'C'] * 5,\n",
        "    'Experience': ['Novice', 'Experienced'] * 15,\n",
        "    'Time': np.random.randint(10, 20, 30)\n",
        "})\n",
        "\n",
        "model = ols('Time ~ C(Program) + C(Experience) + C(Program):C(Experience)', data=data).fit()\n",
        "anova_results = sm.stats.anova_lm(model, typ=2)\n",
        "\"\"\"\n",
        "ANOVA Results: (anova_results)\n",
        "\"\"\"\n",
        "\n",
        "# Q6: One-Way ANOVA Example\n",
        "from scipy.stats import f_oneway\n",
        "\n",
        "# Example data\n",
        "diet_a = [4, 5, 6, 7]\n",
        "diet_b = [8, 9, 10, 11]\n",
        "diet_c = [12, 13, 14, 15]\n",
        "\n",
        "f_stat, p_value = f_oneway(diet_a, diet_b, diet_c)\n",
        "\"\"\"\n",
        "F-Statistic: (f_stat), p-value: (p_value)\n",
        "\"\"\"\n",
        "\n",
        "# Q7: Missing Data in Repeated Measures ANOVA\n",
        "\"\"\"\n",
        "Handling missing data options:\n",
        "1. Listwise Deletion: Removes rows with missing data.\n",
        "   Potential Issue: Reduces sample size.\n",
        "2. Imputation: Replaces missing data with estimated values.\n",
        "   Potential Issue: Introduces bias if not done carefully.\n",
        "\"\"\"\n",
        "\n",
        "# Q8: Post-Hoc Tests After ANOVA\n",
        "\"\"\"\n",
        "Examples:\n",
        "1. Tukey's HSD: For pairwise comparisons.\n",
        "   Example: Comparing mean differences among multiple groups.\n",
        "2. Bonferroni: Adjusts significance levels to control Type 1 error.\n",
        "   Example: Post-hoc comparisons in clinical trials.\n",
        "\n",
        "When to use: After finding a significant ANOVA result.\n",
        "\"\"\"\n",
        "\n",
        "# Q9: One-Way ANOVA for Weight Loss\n",
        "weights = {\n",
        "    'A': np.random.normal(5, 1, 50),\n",
        "    'B': np.random.normal(6, 1, 50),\n",
        "    'C': np.random.normal(7, 1, 50)\n",
        "}\n",
        "f_stat, p_value = f_oneway(weights['A'], weights['B'], weights['C'])\n",
        "\"\"\"\n",
        "F-Statistic: (f_stat), p-value: (p_value)\n",
        "\"\"\"\n",
        "\n",
        "# Q10: Two-Way ANOVA for Software Programs\n",
        "\"\"\"\n",
        "Refer to Q5 for example implementation.\n",
        "\"\"\"\n",
        "\n",
        "# Q11: Two-Sample t-Test for Teaching Methods\n",
        "group_a = np.random.normal(70, 10, 100)\n",
        "group_b = np.random.normal(75, 10, 100)\n",
        "\n",
        "t_stat, p_value = stats.ttest_ind(group_a, group_b)\n",
        "\"\"\"\n",
        "t-Statistic: (t_stat), p-value: (p_value)\n",
        "\"\"\"\n",
        "\n",
        "# Q12: Repeated Measures ANOVA for Retail Sales\n",
        "\"\"\"\n",
        "Example implementation requires specific repeated measures data.\n",
        "\"\"\"\n"
      ],
      "metadata": {
        "colab": {
          "base_uri": "https://localhost:8080/",
          "height": 35
        },
        "id": "-77AweH2gVzh",
        "outputId": "a227ae62-5a88-4adc-de4b-fc9bafe71a8f"
      },
      "execution_count": 5,
      "outputs": [
        {
          "output_type": "execute_result",
          "data": {
            "text/plain": [
              "'\\nExample implementation requires specific repeated measures data.\\n'"
            ],
            "application/vnd.google.colaboratory.intrinsic+json": {
              "type": "string"
            }
          },
          "metadata": {},
          "execution_count": 5
        }
      ]
    },
    {
      "cell_type": "code",
      "source": [],
      "metadata": {
        "id": "vpO8gL65hH7G"
      },
      "execution_count": null,
      "outputs": []
    }
  ]
}