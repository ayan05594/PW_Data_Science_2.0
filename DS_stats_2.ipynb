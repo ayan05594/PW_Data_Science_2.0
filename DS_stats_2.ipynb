{
  "nbformat": 4,
  "nbformat_minor": 0,
  "metadata": {
    "colab": {
      "provenance": []
    },
    "kernelspec": {
      "name": "python3",
      "display_name": "Python 3"
    },
    "language_info": {
      "name": "python"
    }
  },
  "cells": [
    {
      "cell_type": "markdown",
      "source": [],
      "metadata": {
        "id": "7nV0-aAUNtaw"
      }
    },
    {
      "cell_type": "code",
      "source": [
        "import numpy as np\n",
        "from scipy import stats\n",
        "\n",
        "# Q1. Three measures of central tendency:\n",
        "\"\"\"\n",
        "1. Mean: The average of all data points.\n",
        "2. Median: The middle value when data points are arranged in ascending order.\n",
        "3. Mode: The most frequently occurring value(s).\n",
        "\"\"\"\n",
        "\n",
        "# Q2. Differences between mean, median, and mode:\n",
        "\"\"\"\n",
        "Mean: Sum of all values divided by the number of values (sensitive to outliers).\n",
        "Median: The middle value, not affected by outliers.\n",
        "Mode: The most frequent value, used in categorical data.\n",
        "\"\"\"\n",
        "\n",
        "# Q3. Calculate central tendency for height data\n",
        "height_data = [178, 177, 176, 177, 178.2, 178, 175, 179, 180, 175, 178.9, 176.2, 177, 172.5, 178, 176.5]\n",
        "mean = np.mean(height_data)\n",
        "median = np.median(height_data)\n",
        "mode = stats.mode(height_data)\n",
        "\n",
        "\"\"\"\n",
        "Q3. Central Tendency for height data:\n",
        "Mean: {mean}\n",
        "Median: {median}\n",
        "Mode: {mode.mode[0]} (Frequency: {mode.count[0]})\n",
        "\"\"\"\n",
        "\n",
        "# Q4. Standard deviation\n",
        "std_dev = np.std(height_data, ddof=1)\n",
        "\n",
        "\"\"\"\n",
        "Q4. Standard Deviation:\n",
        "{std_dev}\n",
        "\"\"\"\n",
        "\n",
        "# Q5. Measures of dispersion:\n",
        "\"\"\"\n",
        "Range: Difference between max and min values.\n",
        "Variance: Average of squared differences from the mean.\n",
        "Standard Deviation: Square root of variance.\n",
        "\"\"\"\n",
        "\n",
        "# Q6. Venn diagram:\n",
        "\"\"\"\n",
        "A Venn Diagram is a visual representation of sets using overlapping circles to show relationships.\n",
        "\"\"\"\n",
        "\n",
        "# Q7. Set operations\n",
        "A = {2, 3, 4, 5, 6, 7}\n",
        "B = {0, 2, 6, 8, 10}\n",
        "intersection = A & B\n",
        "union = A | B\n",
        "\n",
        "\"\"\"\n",
        "Q7. Set Operations:\n",
        "A ∩ B: {intersection}\n",
        "A ∪ B: {union}\n",
        "\"\"\"\n",
        "\n",
        "# Q8. Skewness:\n",
        "\"\"\"\n",
        "Skewness measures the asymmetry of data.\n",
        "- Right skew: Mean > Median\n",
        "- Left skew: Mean < Median\n",
        "\"\"\"\n",
        "\n",
        "# Q9. Right skewed data:\n",
        "\"\"\"\n",
        "In right-skewed data, the mean is greater than the median.\n",
        "\"\"\"\n",
        "\n",
        "# Q10. Covariance vs Correlation:\n",
        "\"\"\"\n",
        "Covariance measures the direction of the relationship (range: -∞ to +∞).\n",
        "Correlation measures the strength and direction of the relationship (standardized, range: -1 to +1).\n",
        "\"\"\"\n",
        "\n",
        "# Q11. Sample mean formula\n",
        "example_data = [4, 6, 8]\n",
        "sample_mean = np.mean(example_data)\n",
        "\n",
        "\"\"\"\n",
        "Q11. Sample Mean Formula:\n",
        "Sample Mean = Σx / n\n",
        "Example: Data = {example_data}, Sample Mean = {sample_mean}\n",
        "\"\"\"\n",
        "\n",
        "# Q12. Central tendency in normal distribution:\n",
        "\"\"\"\n",
        "In normal distribution, the Mean, Median, and Mode are equal.\n",
        "\"\"\"\n",
        "\n",
        "# Q13. Covariance vs Correlation difference:\n",
        "\"\"\"\n",
        "Covariance shows the direction of the relationship.\n",
        "Correlation shows the strength and direction of the relationship (standardized).\n",
        "\"\"\"\n",
        "\n",
        "# Q14. Outliers' effect:\n",
        "outlier_data = [1, 2, 3, 4, 100]\n",
        "mean_outlier = np.mean(outlier_data)\n",
        "median_outlier = np.median(outlier_data)\n",
        "range_outlier = np.ptp(outlier_data)\n",
        "\n",
        "\"\"\"\n",
        "Q14. Effect of Outliers:\n",
        "Dataset: {outlier_data}\n",
        "Mean: {mean_outlier} (affected by outlier)\n",
        "Median: {median_outlier} (not affected)\n",
        "Range: {range_outlier} (increased by outlier)\n",
        "\"\"\"\n"
      ],
      "metadata": {
        "colab": {
          "base_uri": "https://localhost:8080/",
          "height": 52
        },
        "id": "-77AweH2gVzh",
        "outputId": "758053a2-0964-4703-b716-191a9eeca623"
      },
      "execution_count": 1,
      "outputs": [
        {
          "output_type": "execute_result",
          "data": {
            "text/plain": [
              "'\\nQ14. Effect of Outliers:\\nDataset: {outlier_data}\\nMean: {mean_outlier} (affected by outlier)\\nMedian: {median_outlier} (not affected)\\nRange: {range_outlier} (increased by outlier)\\n'"
            ],
            "application/vnd.google.colaboratory.intrinsic+json": {
              "type": "string"
            }
          },
          "metadata": {},
          "execution_count": 1
        }
      ]
    },
    {
      "cell_type": "code",
      "source": [],
      "metadata": {
        "id": "vpO8gL65hH7G"
      },
      "execution_count": null,
      "outputs": []
    }
  ]
}