{
  "nbformat": 4,
  "nbformat_minor": 0,
  "metadata": {
    "colab": {
      "provenance": []
    },
    "kernelspec": {
      "name": "python3",
      "display_name": "Python 3"
    },
    "language_info": {
      "name": "python"
    }
  },
  "cells": [
    {
      "cell_type": "code",
      "source": [
        "# Q1. What is MongoDB? Explain non-relational databases in short. In which scenarios it is preferred to use MongoDB over SQL databases?\n",
        "# MongoDB is a NoSQL database that stores data in a flexible, JSON-like format called BSON.\n",
        "# Non-relational databases are designed for unstructured or semi-structured data and do not require a fixed schema.\n",
        "# MongoDB is preferred when:\n",
        "# - The application requires flexible and dynamic schemas.\n",
        "# - There is a need to handle large volumes of unstructured data.\n",
        "# - High-speed read and write operations are crucial.\n",
        "# - Horizontal scaling is needed.\n",
        "\n",
        "# Q2. State and Explain the features of MongoDB.\n",
        "# - Flexible Schema: MongoDB allows for dynamic, schema-less collections.\n",
        "# - High Performance: Optimized for read/write operations on large datasets.\n",
        "# - Scalability: Horizontal scaling is supported through sharding.\n",
        "# - Indexing: Provides efficient query execution via indexes.\n",
        "# - Aggregation Framework: Supports powerful data aggregation and transformation.\n",
        "# - Document-Oriented Storage: Stores data in BSON documents, making it closer to JSON.\n",
        "# - High Availability: Replication ensures data redundancy and availability.\n",
        "\n",
        "# Q3. Write a code to connect MongoDB to Python. Also, create a database and a collection in MongoDB.\n",
        "from pymongo import MongoClient\n",
        "client = MongoClient(\"mongodb://localhost:27017/\")  # Connect to MongoDB\n",
        "db = client[\"school_db\"]  # Create or select a database\n",
        "collection = db[\"students\"]  # Create or select a collection\n",
        "\n",
        "# Q4. Write a code to insert one record, and insert many records. Use the find() and find_one() methods to print the inserted record.\n",
        "# Insert one record\n",
        "student = {\"name\": \"Alice\", \"age\": 20, \"grade\": \"A\"}\n",
        "collection.insert_one(student)\n",
        "print(\"Inserted one record:\", collection.find_one({\"name\": \"Alice\"}))\n",
        "\n",
        "# Insert many records\n",
        "students = [\n",
        "    {\"name\": \"Bob\", \"age\": 22, \"grade\": \"B\"},\n",
        "    {\"name\": \"Charlie\", \"age\": 21, \"grade\": \"A\"},\n",
        "    {\"name\": \"Diana\", \"age\": 23, \"grade\": \"C\"}\n",
        "]\n",
        "collection.insert_many(students)\n",
        "print(\"All records:\")\n",
        "for record in collection.find():\n",
        "    print(record)\n",
        "\n",
        "# Q5. Explain how you can use the find() method to query the MongoDB database. Write a simple code to demonstrate this.\n",
        "# The `find()` method retrieves multiple documents matching a query.\n",
        "query = {\"grade\": \"A\"}  # Find all students with grade A\n",
        "results = collection.find(query)\n",
        "print(\"Students with grade A:\")\n",
        "for student in results:\n",
        "    print(student)\n",
        "\n",
        "# Q6. Explain the sort() method. Give an example to demonstrate sorting in MongoDB.\n",
        "# The `sort()` method orders query results based on one or more fields.\n",
        "# Example: Sort by age in ascending order\n",
        "sorted_students = collection.find().sort(\"age\", 1)\n",
        "print(\"Students sorted by age:\")\n",
        "for student in sorted_students:\n",
        "    print(student)\n",
        "\n",
        "# Q7. Explain why delete_one(), delete_many(), and drop() is used.\n",
        "# - `delete_one()`: Removes the first document matching a query.\n",
        "# - `delete_many()`: Removes all documents matching a query.\n",
        "# - `drop()`: Removes the entire collection from the database.\n",
        "# Example:\n",
        "collection.delete_one({\"name\": \"Alice\"})  # Deletes Alice's record\n",
        "collection.delete_many({\"grade\": \"C\"})  # Deletes all students with grade C\n",
        "collection.drop()  # Deletes the entire collection\n"
      ],
      "metadata": {
        "id": "pFj9XPWIz06t"
      },
      "execution_count": null,
      "outputs": []
    }
  ]
}