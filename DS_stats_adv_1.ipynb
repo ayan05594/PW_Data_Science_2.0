{
  "nbformat": 4,
  "nbformat_minor": 0,
  "metadata": {
    "colab": {
      "provenance": []
    },
    "kernelspec": {
      "name": "python3",
      "display_name": "Python 3"
    },
    "language_info": {
      "name": "python"
    }
  },
  "cells": [
    {
      "cell_type": "markdown",
      "source": [],
      "metadata": {
        "id": "7nV0-aAUNtaw"
      }
    },
    {
      "cell_type": "code",
      "source": [
        "import numpy as np\n",
        "import matplotlib.pyplot as plt\n",
        "from scipy.stats import norm, binom, poisson\n",
        "\n",
        "# Q1. Probability Density Function (PDF)\n",
        "\"\"\"\n",
        "The PDF is a function that describes the likelihood of a random variable taking on a specific value.\n",
        "For continuous variables, it represents the density of probability at a point.\n",
        "\"\"\"\n",
        "\n",
        "# Q2. Types of Probability Distributions\n",
        "\"\"\"\n",
        "1. Discrete Distributions:\n",
        "   - Binomial\n",
        "   - Poisson\n",
        "   - Geometric\n",
        "2. Continuous Distributions:\n",
        "   - Normal\n",
        "   - Exponential\n",
        "   - Uniform\n",
        "\"\"\"\n",
        "\n",
        "# Q3. Function to calculate PDF of normal distribution\n",
        "def normal_pdf(x, mean, std_dev):\n",
        "    return norm.pdf(x, loc=mean, scale=std_dev)\n",
        "\n",
        "\"\"\"\n",
        "Example: PDF of a normal distribution with mean 0 and std_dev 1 at x = 1:\n",
        "{normal_pdf(1, 0, 1)}\n",
        "\"\"\"\n",
        "\n",
        "# Q4. Properties of Binomial Distribution\n",
        "\"\"\"\n",
        "1. Fixed number of trials (n).\n",
        "2. Each trial has two outcomes (success or failure).\n",
        "3. Probability of success (p) is constant.\n",
        "4. Trials are independent.\n",
        "\n",
        "Examples:\n",
        "1. Tossing a coin 10 times and counting heads.\n",
        "2. Rolling a die 20 times to count occurrences of a specific number.\n",
        "\"\"\"\n",
        "\n",
        "# Q5. Generate a random sample from Binomial distribution\n",
        "n, p, size = 10, 0.4, 1000\n",
        "binomial_sample = binom.rvs(n=n, p=p, size=size)\n",
        "plt.hist(binomial_sample, bins=10, color='blue', alpha=0.7, edgecolor='black')\n",
        "plt.title(\"Histogram of Binomial Distribution\")\n",
        "plt.xlabel(\"Number of successes\")\n",
        "plt.ylabel(\"Frequency\")\n",
        "plt.show()\n",
        "\n",
        "# Q6. Function to calculate CDF of Poisson distribution\n",
        "def poisson_cdf(k, mean):\n",
        "    return poisson.cdf(k, mu=mean)\n",
        "\n",
        "\"\"\"\n",
        "Example: CDF of Poisson distribution with mean 5 at k = 3:\n",
        "{poisson_cdf(3, 5)}\n",
        "\"\"\"\n",
        "\n",
        "# Q7. Difference between Binomial and Poisson Distribution\n",
        "\"\"\"\n",
        "1. Binomial:\n",
        "   - Discrete trials with fixed n.\n",
        "   - Each trial has success probability p.\n",
        "2. Poisson:\n",
        "   - Models rare events over a continuous interval (e.g., time).\n",
        "   - Depends on the mean (λ), not fixed trials.\n",
        "\"\"\"\n",
        "\n",
        "# Q8. Generate a random sample from Poisson distribution\n",
        "poisson_sample = poisson.rvs(mu=5, size=1000)\n",
        "sample_mean = np.mean(poisson_sample)\n",
        "sample_variance = np.var(poisson_sample)\n",
        "\n",
        "\"\"\"\n",
        "Sample Mean: {sample_mean}\n",
        "Sample Variance: {sample_variance}\n",
        "\"\"\"\n",
        "\n",
        "# Q9. Relationship between Mean and Variance\n",
        "\"\"\"\n",
        "Binomial:\n",
        "Mean = n * p\n",
        "Variance = n * p * (1 - p)\n",
        "\n",
        "Poisson:\n",
        "Mean = Variance = λ\n",
        "\"\"\"\n",
        "\n",
        "# Q10. Least frequent data in Normal Distribution\n",
        "\"\"\"\n",
        "In a normal distribution, the least frequent data appears in the tails (farther from the mean).\n",
        "\"\"\"\n"
      ],
      "metadata": {
        "colab": {
          "base_uri": "https://localhost:8080/",
          "height": 490
        },
        "id": "-77AweH2gVzh",
        "outputId": "96337180-9aec-4d70-9a21-1a6fdebe4b86"
      },
      "execution_count": 1,
      "outputs": [
        {
          "output_type": "display_data",
          "data": {
            "text/plain": [
              "<Figure size 640x480 with 1 Axes>"
            ],
            "image/png": "[encoded data removed]"
          },
          "metadata": {}
        },
        {
          "output_type": "execute_result",
          "data": {
            "text/plain": [
              "'\\nIn a normal distribution, the least frequent data appears in the tails (farther from the mean).\\n'"
            ],
            "application/vnd.google.colaboratory.intrinsic+json": {
              "type": "string"
            }
          },
          "metadata": {},
          "execution_count": 1
        }
      ]
    },
    {
      "cell_type": "code",
      "source": [],
      "metadata": {
        "id": "vpO8gL65hH7G"
      },
      "execution_count": null,
      "outputs": []
    }
  ]
}