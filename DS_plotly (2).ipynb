{
  "nbformat": 4,
  "nbformat_minor": 0,
  "metadata": {
    "colab": {
      "provenance": []
    },
    "kernelspec": {
      "name": "python3",
      "display_name": "Python 3"
    },
    "language_info": {
      "name": "python"
    }
  },
  "cells": [
    {
      "cell_type": "code",
      "source": [
        "# Q1: Create a Pandas Series with the given data and print the series\n",
        "import pandas as pd\n",
        "\n",
        "data = [4, 8, 15, 16, 23, 42]\n",
        "series = pd.Series(data)\n",
        "print(series)\n",
        "\n",
        "# Q2: Create a list with 10 elements, convert it to a Pandas Series, and print it\n",
        "list_data = [1, 2, 3, 4, 5, 6, 7, 8, 9, 10]\n",
        "series_from_list = pd.Series(list_data)\n",
        "print(series_from_list)\n",
        "\n",
        "# Q3: Create a Pandas DataFrame and print it\n",
        "data_dict = {\n",
        "    \"Name\": [\"Alice\", \"Bob\", \"Claire\"],\n",
        "    \"Age\": [25, 30, 27],\n",
        "    \"Gender\": [\"Female\", \"Male\", \"Female\"]\n",
        "}\n",
        "\n",
        "df = pd.DataFrame(data_dict)\n",
        "print(df)\n",
        "\n",
        "# Q4: DataFrame vs Series in pandas\n",
        "# Series: A one-dimensional labeled array that can hold any data type (integers, strings, floats, etc.)\n",
        "# DataFrame: A two-dimensional labeled data structure, similar to a table, where data is stored in rows and columns.\n",
        "\n",
        "# Example of Series:\n",
        "series_example = pd.Series([10, 20, 30, 40])\n",
        "print(series_example)\n",
        "\n",
        "# Example of DataFrame:\n",
        "dataframe_example = pd.DataFrame({\"Column1\": [1, 2, 3], \"Column2\": [4, 5, 6]})\n",
        "print(dataframe_example)\n",
        "\n",
        "# Q5: Common functions to manipulate data in a Pandas DataFrame\n",
        "# Functions like 'head()', 'tail()', 'drop()', 'sort_values()', and 'groupby()' are commonly used.\n",
        "\n",
        "# Example: Using 'head()' to view the first 2 rows of a DataFrame\n",
        "print(df.head(2))\n",
        "\n",
        "# Q6: Mutable in nature - Series, DataFrame, Panel\n",
        "# DataFrame is mutable, meaning you can modify its data. Series is also mutable, but Panel (which is deprecated) is a 3D object that was mutable.\n",
        "\n",
        "# Q7: Create a DataFrame using multiple Series\n",
        "name_series = pd.Series([\"Alice\", \"Bob\", \"Claire\"])\n",
        "age_series = pd.Series([25, 30, 27])\n",
        "gender_series = pd.Series([\"Female\", \"Male\", \"Female\"])\n",
        "\n",
        "df_from_series = pd.DataFrame({\"Name\": name_series, \"Age\": age_series, \"Gender\": gender_series})\n",
        "print(df_from_series)\n"
      ],
      "metadata": {
        "id": "pFj9XPWIz06t"
      },
      "execution_count": null,
      "outputs": []
    },
    {
      "cell_type": "code",
      "source": [],
      "metadata": {
        "id": "CiM65TH6W9kv"
      },
      "execution_count": null,
      "outputs": []
    }
  ]
}