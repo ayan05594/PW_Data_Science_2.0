{
  "nbformat": 4,
  "nbformat_minor": 0,
  "metadata": {
    "colab": {
      "provenance": []
    },
    "kernelspec": {
      "name": "python3",
      "display_name": "Python 3"
    },
    "language_info": {
      "name": "python"
    }
  },
  "cells": [
    {
      "cell_type": "code",
      "source": [
        "# Q1. What is Flask Framework? What are the advantages of Flask Framework?\n",
        "# Flask is a lightweight and micro web framework written in Python. It is designed for easy and quick web application development.\n",
        "# **Advantages**:\n",
        "# - Simple and easy to use.\n",
        "# - Minimalistic and flexible, allowing developers to choose the components they need.\n",
        "# - Supports extensions for database integration, authentication, etc.\n",
        "# - Built-in development server and debugger for testing.\n",
        "# - Well-documented and widely supported.\n",
        "\n",
        "# Q2. Create a simple Flask application to display ‘Hello World!!’.\n",
        "from flask import Flask\n",
        "\n",
        "app = Flask(__name__)\n",
        "\n",
        "@app.route(\"/\")\n",
        "def hello():\n",
        "    return \"Hello World!!\"\n",
        "\n",
        "if __name__ == \"__main__\":\n",
        "    app.run(debug=True)\n",
        "\n",
        "# (After running the code, open a browser and go to http://127.0.0.1:5000 to see the output.)\n",
        "\n",
        "# Q3. What is App Routing in Flask? Why do we use app routes?\n",
        "# **App Routing** in Flask is a way to map URLs to specific functions within the application.\n",
        "# - **Why we use app routes**:\n",
        "#   - To define the behavior of the application for different URLs.\n",
        "#   - To handle user navigation across various pages of the web application.\n",
        "\n",
        "# Q4. Create a “/welcome” route and a “/” route.\n",
        "@app.route(\"/welcome\")\n",
        "def welcome():\n",
        "    return \"Welcome to ABC Corporation\"\n",
        "\n",
        "@app.route(\"/\")\n",
        "def company_details():\n",
        "    return \"\"\"\n",
        "    <h1>Company Details</h1>\n",
        "    <p><b>Company Name:</b> ABC Corporation</p>\n",
        "    <p><b>Location:</b> India</p>\n",
        "    <p><b>Contact Detail:</b> 999-999-9999</p>\n",
        "    \"\"\"\n",
        "\n",
        "if __name__ == \"__main__\":\n",
        "    app.run(debug=True)\n",
        "\n",
        "# (Access /welcome and / routes in a browser to see the output.)\n",
        "\n",
        "# Q5. What function is used in Flask for URL Building? Demonstrate with code.\n",
        "# The `url_for()` function is used in Flask for URL Building. It dynamically generates URLs for a specific function based on its name.\n",
        "\n",
        "from flask import url_for\n",
        "\n",
        "@app.route(\"/about\")\n",
        "def about():\n",
        "    return \"This is the About Page.\"\n",
        "\n",
        "@app.route(\"/home\")\n",
        "def home():\n",
        "    about_url = url_for('about')\n",
        "    return f\"Go to About Page: <a href='{about_url}'>{about_url}</a>\"\n",
        "\n",
        "if __name__ == \"__main__\":\n",
        "    app.run(debug=True)\n",
        "\n",
        "# (Access /home to see a link dynamically generated for the About Page.)\n"
      ],
      "metadata": {
        "id": "pFj9XPWIz06t"
      },
      "execution_count": null,
      "outputs": []
    }
  ]
}