{
  "nbformat": 4,
  "nbformat_minor": 0,
  "metadata": {
    "colab": {
      "provenance": []
    },
    "kernelspec": {
      "name": "python3",
      "display_name": "Python 3"
    },
    "language_info": {
      "name": "python"
    }
  },
  "cells": [
    {
      "cell_type": "markdown",
      "source": [],
      "metadata": {
        "id": "7nV0-aAUNtaw"
      }
    },
    {
      "cell_type": "code",
      "source": [
        "# Q1: PMF and PDF\n",
        "\"\"\"\n",
        "- PMF (Probability Mass Function): Defines the probability of a discrete random variable taking on a specific value.\n",
        "  Example: Rolling a die. P(X=3) = 1/6.\n",
        "\n",
        "- PDF (Probability Density Function): Describes the density of a continuous random variable over a range.\n",
        "  Example: Heights of people can be modeled using a normal distribution.\n",
        "  The PDF gives the relative likelihood of a height within a certain range.\n",
        "\"\"\"\n",
        "\n",
        "# Q2: CDF\n",
        "\"\"\"\n",
        "- CDF (Cumulative Density Function): Represents the probability that a random variable is less than or equal to a certain value.\n",
        "  Example: For a normal distribution with mean 0 and standard deviation 1, P(X ≤ 1) is the CDF at X = 1.\n",
        "\n",
        "- Importance: The CDF is used to calculate cumulative probabilities, allowing analysis of ranges and thresholds.\n",
        "\"\"\"\n",
        "\n",
        "# Q3: Examples of Normal Distribution\n",
        "\"\"\"\n",
        "Examples:\n",
        "1. Heights of people.\n",
        "2. Test scores.\n",
        "3. Measurement errors.\n",
        "\n",
        "Parameters:\n",
        "- Mean (μ): Defines the center of the distribution.\n",
        "- Standard Deviation (σ): Determines the spread.\n",
        "A smaller σ makes the distribution narrower, while a larger σ makes it wider.\n",
        "\"\"\"\n",
        "\n",
        "# Q4: Importance of Normal Distribution\n",
        "\"\"\"\n",
        "Importance:\n",
        "1. Many natural phenomena follow a normal distribution.\n",
        "2. Basis for inferential statistics.\n",
        "3. Enables use of z-scores and confidence intervals.\n",
        "\n",
        "Examples:\n",
        "1. IQ scores.\n",
        "2. Blood pressure readings.\n",
        "3. Manufacturing defects in a production line.\n",
        "\"\"\"\n",
        "\n",
        "# Q5: Bernoulli Distribution\n",
        "\"\"\"\n",
        "- Definition: A distribution with two outcomes (success and failure) and a probability of success p.\n",
        "  Example: Tossing a coin.\n",
        "\n",
        "- Difference from Binomial:\n",
        "  - Bernoulli is a single trial.\n",
        "  - Binomial is the sum of multiple Bernoulli trials.\n",
        "\"\"\"\n",
        "\n",
        "# Q6: Probability of observation > 60\n",
        "\"\"\"\n",
        "Mean = 50, Std Dev = 10, X = 60\n",
        "z = (X - μ) / σ = (60 - 50) / 10 = 1\n",
        "P(X > 60) = 1 - CDF(1) ≈ 1 - 0.8413 = 0.1587\n",
        "Probability = 15.87%.\n",
        "\"\"\"\n",
        "\n",
        "# Q7: Uniform Distribution\n",
        "\"\"\"\n",
        "- Definition: All outcomes in a range have equal probability.\n",
        "  Example: Rolling a fair die.\n",
        "\n",
        "- Continuous Uniform Example: Random number generation between 0 and 1.\n",
        "\"\"\"\n",
        "\n",
        "# Q8: Z-Score\n",
        "\"\"\"\n",
        "- Definition: Measures how many standard deviations a value is from the mean.\n",
        "  Formula: z = (X - μ) / σ\n",
        "\n",
        "- Importance:\n",
        "  1. Standardizes data for comparison.\n",
        "  2. Identifies outliers.\n",
        "\"\"\"\n",
        "\n",
        "# Q9: Central Limit Theorem (CLT)\n",
        "\"\"\"\n",
        "- Definition: The sampling distribution of the sample mean approaches normal distribution as sample size increases, regardless of the population's original distribution.\n",
        "\n",
        "- Significance:\n",
        "  1. Facilitates hypothesis testing.\n",
        "  2. Enables use of normal approximation for non-normal data.\n",
        "\"\"\"\n",
        "\n",
        "# Q10: Assumptions of CLT\n",
        "\"\"\"\n",
        "1. Samples are independent.\n",
        "2. Sample size is sufficiently large (usually n > 30).\n",
        "3. Random sampling from the population.\n",
        "\"\"\"\n"
      ],
      "metadata": {
        "colab": {
          "base_uri": "https://localhost:8080/",
          "height": 35
        },
        "id": "-77AweH2gVzh",
        "outputId": "78da3aa7-f1d5-4c85-aaee-dd39a040ae90"
      },
      "execution_count": 2,
      "outputs": [
        {
          "output_type": "execute_result",
          "data": {
            "text/plain": [
              "'\\n1. Samples are independent.\\n2. Sample size is sufficiently large (usually n > 30).\\n3. Random sampling from the population.\\n'"
            ],
            "application/vnd.google.colaboratory.intrinsic+json": {
              "type": "string"
            }
          },
          "metadata": {},
          "execution_count": 2
        }
      ]
    },
    {
      "cell_type": "code",
      "source": [],
      "metadata": {
        "id": "vpO8gL65hH7G"
      },
      "execution_count": null,
      "outputs": []
    }
  ]
}