{
  "nbformat": 4,
  "nbformat_minor": 0,
  "metadata": {
    "colab": {
      "provenance": []
    },
    "kernelspec": {
      "name": "python3",
      "display_name": "Python 3"
    },
    "language_info": {
      "name": "python"
    }
  },
  "cells": [
    {
      "cell_type": "code",
      "source": [
        "# Q1. What is an API? Give an example, where an API is used in real life.\n",
        "# An API (Application Programming Interface) is a set of rules and protocols that allow different software applications to communicate with each other.\n",
        "# Example: APIs are used in real life for payment processing (e.g., Stripe API), retrieving weather data (e.g., OpenWeatherMap API), or social media integration (e.g., Twitter API).\n",
        "\n",
        "# Q2. Give advantages and disadvantages of using API.\n",
        "# **Advantages**:\n",
        "# - Allows integration between different systems and applications.\n",
        "# - Increases efficiency by enabling reuse of existing functionalities.\n",
        "# - Facilitates communication between web services and software applications.\n",
        "# - Enables automation of repetitive tasks.\n",
        "# **Disadvantages**:\n",
        "# - Security concerns if APIs are not properly secured.\n",
        "# - Dependency on third-party APIs can introduce risks.\n",
        "# - Can increase complexity in application architecture.\n",
        "\n",
        "# Q3. What is a Web API? Differentiate between API and Web API.\n",
        "# A Web API is a specific type of API that enables communication between a client and a server over the internet using HTTP protocols.\n",
        "# **Differences**:\n",
        "# - API is a broader concept that includes any kind of application interface, while Web API specifically refers to APIs accessible over the web.\n",
        "# - APIs can exist for hardware, operating systems, or local applications, while Web APIs are focused on web-based services.\n",
        "\n",
        "# Q4. Explain REST and SOAP Architecture. Mention shortcomings of SOAP.\n",
        "# **REST (Representational State Transfer)**:\n",
        "# - Architectural style for designing networked applications.\n",
        "# - Uses HTTP methods like GET, POST, PUT, DELETE.\n",
        "# - Data can be transmitted in formats such as JSON, XML.\n",
        "# - Stateless and lightweight.\n",
        "\n",
        "# **SOAP (Simple Object Access Protocol)**:\n",
        "# - Protocol for exchanging structured information in web services.\n",
        "# - Uses XML for message format and relies on other protocols like HTTP or SMTP.\n",
        "# - Ensures higher security and supports ACID transactions.\n",
        "\n",
        "# **Shortcomings of SOAP**:\n",
        "# - Verbose due to XML format.\n",
        "# - Slower than REST due to increased complexity.\n",
        "# - Less flexible and harder to implement compared to REST.\n",
        "\n",
        "# Q5. Differentiate between REST and SOAP.\n",
        "# | Feature                | REST                                 | SOAP                                 |\n",
        "# |------------------------|--------------------------------------|--------------------------------------|\n",
        "# | Protocol               | Architectural style                 | Protocol                             |\n",
        "# | Data Format            | JSON, XML, plain text, HTML         | Only XML                             |\n",
        "# | Performance            | Lightweight and faster              | Slower due to verbose XML            |\n",
        "# | Flexibility            | High, allows multiple data formats  | Low, tightly coupled to XML          |\n",
        "# | Security               | Requires additional configurations  | Built-in security features (WS-Security) |\n",
        "# | Statefulness           | Stateless                           | Can be stateful or stateless         |\n"
      ],
      "metadata": {
        "id": "pFj9XPWIz06t"
      },
      "execution_count": null,
      "outputs": []
    }
  ]
}