{
  "nbformat": 4,
  "nbformat_minor": 0,
  "metadata": {
    "colab": {
      "provenance": []
    },
    "kernelspec": {
      "name": "python3",
      "display_name": "Python 3"
    },
    "language_info": {
      "name": "python"
    }
  },
  "cells": [
    {
      "cell_type": "markdown",
      "source": [],
      "metadata": {
        "id": "7nV0-aAUNtaw"
      }
    },
    {
      "cell_type": "code",
      "source": [
        "# Q1: Difference between t-test and z-test\n",
        "\"\"\"\n",
        "- t-test: Used when the sample size is small (n < 30) or the population standard deviation is unknown.\n",
        "  Example: Testing the average height of a class of 20 students compared to the national average.\n",
        "- z-test: Used when the sample size is large (n >= 30) and the population standard deviation is known.\n",
        "  Example: Testing the average income of a city's population using a sample of 100 people.\n",
        "\"\"\"\n",
        "\n",
        "# Q2: One-tailed vs Two-tailed tests\n",
        "\"\"\"\n",
        "- One-tailed test: Tests for an effect in a specific direction (greater or less than).\n",
        "  Example: Testing if a new drug increases recovery speed compared to the old drug.\n",
        "- Two-tailed test: Tests for an effect in both directions.\n",
        "  Example: Testing if a new drug has a different recovery speed compared to the old drug.\n",
        "\"\"\"\n",
        "\n",
        "# Q3: Type 1 and Type 2 Errors\n",
        "\"\"\"\n",
        "- Type 1 Error (False Positive): Rejecting the null hypothesis when it is true.\n",
        "  Example: Concluding a drug is effective when it is not.\n",
        "- Type 2 Error (False Negative): Failing to reject the null hypothesis when it is false.\n",
        "  Example: Concluding a drug is ineffective when it is effective.\n",
        "\"\"\"\n",
        "\n",
        "# Q4: Bayes's Theorem\n",
        "\"\"\"\n",
        "Bayes's theorem states: P(A|B) = [P(B|A) * P(A)] / P(B)\n",
        "Example: If 1% of people have a disease and a test is 95% accurate, what is the probability a positive test result means the person has the disease?\n",
        "\"\"\"\n",
        "\n",
        "# Q5: Confidence Interval\n",
        "\"\"\"\n",
        "A confidence interval is a range of values likely to contain the population parameter.\n",
        "Example: For a sample mean of 50, standard deviation of 5, and sample size of 30:\n",
        "CI = mean ± (z * (std / sqrt(n))), where z = 1.96 for 95%.\n",
        "\"\"\"\n",
        "\n",
        "# Q6: Bayes' Theorem Sample Problem\n",
        "\"\"\"\n",
        "Given:\n",
        "P(A) = 0.01, P(B|A) = 0.95, P(B|~A) = 0.05\n",
        "Solution:\n",
        "P(A|B) = [P(B|A) * P(A)] / [P(B|A)*P(A) + P(B|~A)*P(~A)]\n",
        "\"\"\"\n",
        "\n",
        "# Q7: 95% Confidence Interval\n",
        "mean = 50\n",
        "std = 5\n",
        "n = 30\n",
        "z = 1.96\n",
        "margin_of_error = z * (std / (n ** 0.5))\n",
        "lower_bound = mean - margin_of_error\n",
        "upper_bound = mean + margin_of_error\n",
        "\"\"\"\n",
        "95% CI: (lower_bound, upper_bound)\n",
        "\"\"\"\n",
        "\n",
        "# Q8: Margin of Error\n",
        "\"\"\"\n",
        "- Definition: The maximum amount by which the sample result is expected to differ from the true population parameter.\n",
        "- Larger sample size reduces the margin of error.\n",
        "Example: Surveying 1000 people instead of 100 improves accuracy of election polling.\n",
        "\"\"\"\n",
        "\n",
        "# Q9: Calculate z-score\n",
        "value = 75\n",
        "pop_mean = 70\n",
        "pop_std = 5\n",
        "z_score = (value - pop_mean) / pop_std\n",
        "\"\"\"\n",
        "z-score: (z_score) indicates the value is (z_score) standard deviations above the mean.\n",
        "\"\"\"\n",
        "\n",
        "# Q10: Hypothesis test for weight loss drug\n",
        "import scipy.stats as stats\n",
        "mean_sample = 6\n",
        "std_sample = 2.5\n",
        "n = 50\n",
        "mean_hypothesis = 0  # Assuming null hypothesis\n",
        "t_stat = (mean_sample - mean_hypothesis) / (std_sample / (n ** 0.5))\n",
        "p_value = stats.t.sf(t_stat, df=n - 1) * 2\n",
        "\"\"\"\n",
        "t-statistic: (t_stat), p-value: (p_value)\n",
        "\"\"\"\n",
        "\n",
        "# Q11: Confidence interval for job satisfaction\n",
        "p_hat = 0.65\n",
        "n = 500\n",
        "z = 1.96\n",
        "margin_of_error = z * ((p_hat * (1 - p_hat)) / n) ** 0.5\n",
        "lower_bound = p_hat - margin_of_error\n",
        "upper_bound = p_hat + margin_of_error\n",
        "\"\"\"\n",
        "95% CI: (lower_bound, upper_bound)\n",
        "\"\"\"\n",
        "\n",
        "# Q12: Hypothesis test for teaching methods\n",
        "mean1, std1, n1 = 85, 6, 30\n",
        "mean2, std2, n2 = 82, 5, 40\n",
        "t_stat, p_value = stats.ttest_ind_from_stats(mean1, std1, n1, mean2, std2, n2)\n",
        "\"\"\"\n",
        "t-statistic: (t_stat), p-value: (p_value)\n",
        "\"\"\"\n",
        "\n",
        "# Q13: Confidence interval for population mean\n",
        "mean = 65\n",
        "std = 8\n",
        "n = 50\n",
        "z = 1.645  # For 90% confidence\n",
        "margin_of_error = z * (std / (n ** 0.5))\n",
        "lower_bound = mean - margin_of_error\n",
        "upper_bound = mean + margin_of_error\n",
        "\"\"\"\n",
        "90% CI: (lower_bound, upper_bound)\n",
        "\"\"\"\n",
        "\n",
        "# Q14: Hypothesis test for reaction time\n",
        "mean_sample = 0.25\n",
        "std_sample = 0.05\n",
        "n = 30\n",
        "mean_hypothesis = 0  # Assuming null hypothesis\n",
        "t_stat = (mean_sample - mean_hypothesis) / (std_sample / (n ** 0.5))\n",
        "p_value = stats.t.sf(t_stat, df=n - 1) * 2\n",
        "\"\"\"\n",
        "t-statistic: (t_stat), p-value: (p_value)\n",
        "\"\"\"\n"
      ],
      "metadata": {
        "colab": {
          "base_uri": "https://localhost:8080/",
          "height": 35
        },
        "id": "-77AweH2gVzh",
        "outputId": "b30288fe-f425-45bb-8188-bc0d0abac7b9"
      },
      "execution_count": 4,
      "outputs": [
        {
          "output_type": "execute_result",
          "data": {
            "text/plain": [
              "'\\nt-statistic: (t_stat), p-value: (p_value)\\n'"
            ],
            "application/vnd.google.colaboratory.intrinsic+json": {
              "type": "string"
            }
          },
          "metadata": {},
          "execution_count": 4
        }
      ]
    },
    {
      "cell_type": "code",
      "source": [],
      "metadata": {
        "id": "vpO8gL65hH7G"
      },
      "execution_count": null,
      "outputs": []
    }
  ]
}