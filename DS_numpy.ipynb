{
  "nbformat": 4,
  "nbformat_minor": 0,
  "metadata": {
    "colab": {
      "provenance": []
    },
    "kernelspec": {
      "name": "python3",
      "display_name": "Python 3"
    },
    "language_info": {
      "name": "python"
    }
  },
  "cells": [
    {
      "cell_type": "code",
      "source": [
        "import numpy as np\n",
        "\n",
        "# Q1. Is there any difference in the data type of variables list_ and array_list?\n",
        "# If there is then write a code to print the data types of both the variables.\n",
        "\n",
        "list_ = ['1', '2', '3', '4', '5']\n",
        "array_list = np.array(object = list_)\n",
        "\n",
        "# Print data types of both variables\n",
        "print(f\"Data type of list_: {type(list_)}\")  # Output: <class 'list'>\n",
        "print(f\"Data type of array_list: {array_list.dtype}\")  # Output: <U1 (string type)\n",
        "\n",
        "# Q2. Write a code to print the data type of each and every element of both the variables list_ and array_list.\n",
        "\n",
        "# Print data type of each element in list_\n",
        "for i in list_:\n",
        "    print(f\"Data type of element {i} in list_: {type(i)}\")\n",
        "\n",
        "# Print data type of each element in array_list\n",
        "for i in array_list:\n",
        "    print(f\"Data type of element {i} in array_list: {type(i)}\")\n",
        "\n",
        "# Q3. Will there be any difference in the data type of the elements present in both the variables,\n",
        "# list_ and array_list after the following change?\n",
        "# If so then print the data types of each and every element present in both the variables, list_ and array_list.\n",
        "\n",
        "array_list = np.array(object = list_, dtype = int)\n",
        "\n",
        "# Print data type of each element in list_\n",
        "for i in list_:\n",
        "    print(f\"Data type of element {i} in list_: {type(i)}\")\n",
        "\n",
        "# Print data type of each element in array_list after type change to int\n",
        "for i in array_list:\n",
        "    print(f\"Data type of element {i} in array_list: {type(i)}\")\n",
        "\n",
        "\n",
        "# Q4. Write a code to find the following characteristics of variable, num_array:\n",
        "# (i) shape\n",
        "# (ii) size\n",
        "\n",
        "num_list = [[1, 2, 3], [4, 5, 6]]\n",
        "num_array = np.array(object = num_list)\n",
        "\n",
        "# (i) shape of num_array\n",
        "print(f\"Shape of num_array: {num_array.shape}\")  # Output: (2, 3)\n",
        "\n",
        "# (ii) size of num_array\n",
        "print(f\"Size of num_array: {num_array.size}\")  # Output: 6\n",
        "\n",
        "\n",
        "# Q5. Write a code to create numpy array of 3*3 matrix containing zeros only, using a numpy array creation function.\n",
        "# [Hint: The size of the array will be 9 and the shape will be (3,3).]\n",
        "\n",
        "zeros_array = np.zeros((3, 3))\n",
        "print(f\"3x3 Matrix of Zeros: \\n{zeros_array}\")\n",
        "\n",
        "# Q6. Create an identity matrix of shape (5,5) using numpy functions?\n",
        "# [Hint: An identity matrix is a matrix containing 1 diagonally and other elements will be 0.]\n",
        "\n",
        "identity_matrix = np.eye(5)\n",
        "print(f\"Identity Matrix (5x5): \\n{identity_matrix}\")\n"
      ],
      "metadata": {
        "colab": {
          "base_uri": "https://localhost:8080/"
        },
        "id": "pFj9XPWIz06t",
        "outputId": "b1413e6f-5165-4cb6-866c-03dd6b0f387c"
      },
      "execution_count": 1,
      "outputs": [
        {
          "output_type": "stream",
          "name": "stdout",
          "text": [
            "Data type of list_: <class 'list'>\n",
            "Data type of array_list: <U1\n",
            "Data type of element 1 in list_: <class 'str'>\n",
            "Data type of element 2 in list_: <class 'str'>\n",
            "Data type of element 3 in list_: <class 'str'>\n",
            "Data type of element 4 in list_: <class 'str'>\n",
            "Data type of element 5 in list_: <class 'str'>\n",
            "Data type of element 1 in array_list: <class 'numpy.str_'>\n",
            "Data type of element 2 in array_list: <class 'numpy.str_'>\n",
            "Data type of element 3 in array_list: <class 'numpy.str_'>\n",
            "Data type of element 4 in array_list: <class 'numpy.str_'>\n",
            "Data type of element 5 in array_list: <class 'numpy.str_'>\n",
            "Data type of element 1 in list_: <class 'str'>\n",
            "Data type of element 2 in list_: <class 'str'>\n",
            "Data type of element 3 in list_: <class 'str'>\n",
            "Data type of element 4 in list_: <class 'str'>\n",
            "Data type of element 5 in list_: <class 'str'>\n",
            "Data type of element 1 in array_list: <class 'numpy.int64'>\n",
            "Data type of element 2 in array_list: <class 'numpy.int64'>\n",
            "Data type of element 3 in array_list: <class 'numpy.int64'>\n",
            "Data type of element 4 in array_list: <class 'numpy.int64'>\n",
            "Data type of element 5 in array_list: <class 'numpy.int64'>\n",
            "Shape of num_array: (2, 3)\n",
            "Size of num_array: 6\n",
            "3x3 Matrix of Zeros: \n",
            "[[0. 0. 0.]\n",
            " [0. 0. 0.]\n",
            " [0. 0. 0.]]\n",
            "Identity Matrix (5x5): \n",
            "[[1. 0. 0. 0. 0.]\n",
            " [0. 1. 0. 0. 0.]\n",
            " [0. 0. 1. 0. 0.]\n",
            " [0. 0. 0. 1. 0.]\n",
            " [0. 0. 0. 0. 1.]]\n"
          ]
        }
      ]
    },
    {
      "cell_type": "code",
      "source": [],
      "metadata": {
        "id": "CiM65TH6W9kv"
      },
      "execution_count": null,
      "outputs": []
    }
  ]
}