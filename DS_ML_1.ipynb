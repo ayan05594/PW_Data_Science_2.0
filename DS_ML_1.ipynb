{
  "nbformat": 4,
  "nbformat_minor": 0,
  "metadata": {
    "colab": {
      "provenance": []
    },
    "kernelspec": {
      "name": "python3",
      "display_name": "Python 3"
    },
    "language_info": {
      "name": "python"
    }
  },
  "cells": [
    {
      "cell_type": "markdown",
      "source": [],
      "metadata": {
        "id": "7nV0-aAUNtaw"
      }
    },
    {
      "cell_type": "code",
      "source": [
        "\"\"\"\n",
        "Q1: Explain the following with an example:\n",
        "A) Artificial Intelligence (AI)\n",
        "B) Machine Learning (ML)\n",
        "C) Deep Learning (DL)\n",
        "\n",
        "A) Artificial Intelligence (AI): AI is the broader field of creating machines capable of mimicking human intelligence, such as problem-solving, decision-making, and learning.\n",
        "   Example: A chatbot that answers customer queries.\n",
        "\n",
        "B) Machine Learning (ML): ML is a subset of AI that focuses on developing algorithms that allow systems to learn and improve from data.\n",
        "   Example: A spam filter in an email application.\n",
        "\n",
        "C) Deep Learning (DL): DL is a subset of ML that uses artificial neural networks to process complex patterns in large datasets.\n",
        "   Example: A facial recognition system using convolutional neural networks.\n",
        "\n",
        "Q2: What is supervised learning? List some examples of supervised learning.\n",
        "Supervised learning involves training a model on labeled data, where input-output pairs are provided.\n",
        "Examples: Linear regression, logistic regression, support vector machines, and random forests.\n",
        "\n",
        "Q3: What is unsupervised learning? List some examples of unsupervised learning.\n",
        "Unsupervised learning deals with unlabeled data, focusing on discovering patterns or structures in the data.\n",
        "Examples: K-means clustering, hierarchical clustering, and principal component analysis (PCA).\n",
        "\n",
        "Q4: What is the difference between AI, ML, DL, and DS?\n",
        "- AI: Encompasses all aspects of simulating human intelligence.\n",
        "- ML: A subset of AI, focused on learning from data.\n",
        "- DL: A subset of ML, dealing with deep neural networks.\n",
        "- DS (Data Science): A field involving data collection, analysis, visualization, and modeling (may include ML and DL).\n",
        "\n",
        "Q5: What are the main differences between supervised, unsupervised, and semi-supervised learning?\n",
        "- Supervised Learning: Uses labeled data for training.\n",
        "- Unsupervised Learning: Works with unlabeled data to uncover patterns.\n",
        "- Semi-Supervised Learning: Combines a small amount of labeled data with a larger set of unlabeled data.\n",
        "\n",
        "Q6: What is train, test, and validation split? Explain the importance of each term.\n",
        "- Training Set: Data used to train the model.\n",
        "- Validation Set: Data used to fine-tune model parameters and avoid overfitting.\n",
        "- Test Set: Data used to evaluate the model's performance on unseen data.\n",
        "\n",
        "Q7: How can unsupervised learning be used in anomaly detection?\n",
        "Unsupervised learning identifies patterns and clusters in data. Anomalies are data points that do not fit these patterns, making them identifiable.\n",
        "\n",
        "Q8: List down some commonly used supervised learning algorithms and unsupervised learning algorithms.\n",
        "Supervised Learning Algorithms:\n",
        "- Linear regression\n",
        "- Logistic regression\n",
        "- Decision trees\n",
        "- Random forests\n",
        "- Support vector machines\n",
        "- Neural networks\n",
        "\n",
        "Unsupervised Learning Algorithms:\n",
        "- K-means clustering\n",
        "- DBSCAN\n",
        "- Hierarchical clustering\n",
        "- Principal component analysis (PCA)\n",
        "- Autoencoders\n",
        "\"\"\"\n"
      ],
      "metadata": {
        "colab": {
          "base_uri": "https://localhost:8080/",
          "height": 139
        },
        "id": "-77AweH2gVzh",
        "outputId": "c2a1c1b4-3274-4790-dac2-7c381c431b3a"
      },
      "execution_count": 7,
      "outputs": [
        {
          "output_type": "execute_result",
          "data": {
            "text/plain": [
              "\"\\nQ1: Explain the following with an example:\\nA) Artificial Intelligence (AI)\\nB) Machine Learning (ML)\\nC) Deep Learning (DL)\\n\\nA) Artificial Intelligence (AI): AI is the broader field of creating machines capable of mimicking human intelligence, such as problem-solving, decision-making, and learning. \\n   Example: A chatbot that answers customer queries.\\n\\nB) Machine Learning (ML): ML is a subset of AI that focuses on developing algorithms that allow systems to learn and improve from data.\\n   Example: A spam filter in an email application.\\n\\nC) Deep Learning (DL): DL is a subset of ML that uses artificial neural networks to process complex patterns in large datasets.\\n   Example: A facial recognition system using convolutional neural networks.\\n\\nQ2: What is supervised learning? List some examples of supervised learning.\\nSupervised learning involves training a model on labeled data, where input-output pairs are provided. \\nExamples: Linear regression, logistic regression, support vector machines, and random forests.\\n\\nQ3: What is unsupervised learning? List some examples of unsupervised learning.\\nUnsupervised learning deals with unlabeled data, focusing on discovering patterns or structures in the data.\\nExamples: K-means clustering, hierarchical clustering, and principal component analysis (PCA).\\n\\nQ4: What is the difference between AI, ML, DL, and DS?\\n- AI: Encompasses all aspects of simulating human intelligence.\\n- ML: A subset of AI, focused on learning from data.\\n- DL: A subset of ML, dealing with deep neural networks.\\n- DS (Data Science): A field involving data collection, analysis, visualization, and modeling (may include ML and DL).\\n\\nQ5: What are the main differences between supervised, unsupervised, and semi-supervised learning?\\n- Supervised Learning: Uses labeled data for training.\\n- Unsupervised Learning: Works with unlabeled data to uncover patterns.\\n- Semi-Supervised Learning: Combines a small amount of labeled data with a larger set of unlabeled data.\\n\\nQ6: What is train, test, and validation split? Explain the importance of each term.\\n- Training Set: Data used to train the model.\\n- Validation Set: Data used to fine-tune model parameters and avoid overfitting.\\n- Test Set: Data used to evaluate the model's performance on unseen data.\\n\\nQ7: How can unsupervised learning be used in anomaly detection?\\nUnsupervised learning identifies patterns and clusters in data. Anomalies are data points that do not fit these patterns, making them identifiable.\\n\\nQ8: List down some commonly used supervised learning algorithms and unsupervised learning algorithms.\\nSupervised Learning Algorithms:\\n- Linear regression\\n- Logistic regression\\n- Decision trees\\n- Random forests\\n- Support vector machines\\n- Neural networks\\n\\nUnsupervised Learning Algorithms:\\n- K-means clustering\\n- DBSCAN\\n- Hierarchical clustering\\n- Principal component analysis (PCA)\\n- Autoencoders\\n\""
            ],
            "application/vnd.google.colaboratory.intrinsic+json": {
              "type": "string"
            }
          },
          "metadata": {},
          "execution_count": 7
        }
      ]
    },
    {
      "cell_type": "code",
      "source": [],
      "metadata": {
        "id": "vpO8gL65hH7G"
      },
      "execution_count": null,
      "outputs": []
    }
  ]
}