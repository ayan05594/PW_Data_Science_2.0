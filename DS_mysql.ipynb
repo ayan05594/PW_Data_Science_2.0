{
  "nbformat": 4,
  "nbformat_minor": 0,
  "metadata": {
    "colab": {
      "provenance": []
    },
    "kernelspec": {
      "name": "python3",
      "display_name": "Python 3"
    },
    "language_info": {
      "name": "python"
    }
  },
  "cells": [
    {
      "cell_type": "code",
      "execution_count": null,
      "metadata": {
        "id": "gD7G0Cf4zcXk"
      },
      "outputs": [],
      "source": [
        "#1. What is a database? Differentiate between SQL and NoSQL databases.\n",
        "# A database is an organized collection of data that can be easily accessed, managed, and updated.\n",
        "# SQL databases are relational and use structured query language to define and manipulate data. Examples: MySQL, PostgreSQL.\n",
        "# NoSQL databases are non-relational and store unstructured or semi-structured data. Examples: MongoDB, Cassandra.\n",
        "\n",
        "#2. What is DDL? Explain why CREATE, DROP, ALTER, and TRUNCATE are used with an example.\n",
        "# DDL (Data Definition Language) is used to define and modify database structures.\n",
        "# Example:\n",
        "# CREATE TABLE students (id INT PRIMARY KEY, name VARCHAR(50));\n",
        "# DROP TABLE students;\n",
        "# ALTER TABLE students ADD COLUMN age INT;\n",
        "# TRUNCATE TABLE students;\n",
        "\n",
        "#3. What is DML? Explain INSERT, UPDATE, and DELETE with an example.\n",
        "# DML (Data Manipulation Language) is used to manipulate data in tables.\n",
        "# Example:\n",
        "# INSERT INTO students (id, name, age) VALUES (1, 'John', 20);\n",
        "# UPDATE students SET age = 21 WHERE id = 1;\n",
        "# DELETE FROM students WHERE id = 1;\n",
        "\n",
        "#4. What is DQL? Explain SELECT with an example.\n",
        "# DQL (Data Query Language) is used to query data from a table.\n",
        "# Example:\n",
        "# SELECT * FROM students WHERE age > 20;\n",
        "\n",
        "#5. Explain Primary Key and Foreign Key.\n",
        "# Primary Key uniquely identifies a row in a table. Example: id in a students table.\n",
        "# Foreign Key establishes a relationship between two tables. Example: student_id in a grades table referencing id in the students table.\n",
        "\n",
        "#6. Write a python code to connect MySQL to python. Explain the cursor() and execute() method.\n",
        "import mysql.connector\n",
        "# Establishing connection\n",
        "connection = mysql.connector.connect(\n",
        "    host=\"localhost\",\n",
        "    user=\"root\",\n",
        "    password=\"password\",\n",
        "    database=\"school\"\n",
        ")\n",
        "cursor = connection.cursor()  # Create a cursor object to execute SQL commands\n",
        "cursor.execute(\"SELECT * FROM students\")  # Execute a query\n",
        "results = cursor.fetchall()  # Fetch all results\n",
        "for row in results:\n",
        "    print(row)\n",
        "connection.close()\n",
        "\n",
        "#7. Give the order of execution of SQL clauses in an SQL query.\n",
        "# The order of execution is:\n",
        "# 1. FROM\n",
        "# 2. WHERE\n",
        "# 3. GROUP BY\n",
        "# 4. HAVING\n",
        "# 5. SELECT\n",
        "# 6. ORDER BY\n",
        "# 7. LIMIT"
      ]
    },
    {
      "cell_type": "code",
      "source": [],
      "metadata": {
        "id": "pFj9XPWIz06t"
      },
      "execution_count": null,
      "outputs": []
    }
  ]
}