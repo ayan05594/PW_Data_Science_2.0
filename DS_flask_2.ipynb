{
  "nbformat": 4,
  "nbformat_minor": 0,
  "metadata": {
    "colab": {
      "provenance": []
    },
    "kernelspec": {
      "name": "python3",
      "display_name": "Python 3"
    },
    "language_info": {
      "name": "python"
    }
  },
  "cells": [
    {
      "cell_type": "code",
      "source": [
        "# Q1. Explain GET and POST methods.\n",
        "# **GET Method**:\n",
        "# - Used to request data from a specified resource.\n",
        "# - Parameters are passed in the URL query string (e.g., `?key=value`).\n",
        "# - Typically used for retrieving data.\n",
        "#\n",
        "# **POST Method**:\n",
        "# - Used to send data to a server to create or update a resource.\n",
        "# - Parameters are sent in the request body (not visible in the URL).\n",
        "# - Typically used for submitting forms or uploading files.\n",
        "\n",
        "# Q2. Why is request used in Flask?\n",
        "# The `request` object in Flask is used to handle incoming HTTP requests. It provides information such as:\n",
        "# - Request method (GET, POST, etc.).\n",
        "# - Form data, query parameters, and headers.\n",
        "# - JSON payload or file uploads.\n",
        "# Example: `request.args`, `request.form`, `request.json`.\n",
        "\n",
        "# Q3. Why is redirect() used in Flask?\n",
        "# The `redirect()` function in Flask is used to redirect the user to a different URL.\n",
        "# - Useful in scenarios like redirecting after a form submission or when a user tries to access unauthorized pages.\n",
        "# Example: `return redirect('/login')`.\n",
        "\n",
        "# Q4. What are templates in Flask? Why is the render_template() function used?\n",
        "# **Templates**:\n",
        "# - Templates are files containing static content (like HTML) and dynamic placeholders for data.\n",
        "# - Flask uses Jinja2 template engine for rendering templates.\n",
        "#\n",
        "# **render_template()**:\n",
        "# - Used to render a template and pass dynamic data to it.\n",
        "# - Example: `render_template('index.html', name='John')`.\n",
        "\n",
        "# Q5. Create a simple API and test it using Postman.\n",
        "from flask import Flask, jsonify, request\n",
        "\n",
        "app = Flask(__name__)\n",
        "\n",
        "# Create a simple API endpoint\n",
        "@app.route('/api/data', methods=['GET', 'POST'])\n",
        "def api_data():\n",
        "    if request.method == 'GET':\n",
        "        return jsonify({'message': 'This is a GET request!', 'status': 'success'})\n",
        "    elif request.method == 'POST':\n",
        "        data = request.json  # Access JSON data from request body\n",
        "        return jsonify({'received_data': data, 'message': 'This is a POST request!'})\n",
        "\n",
        "if __name__ == \"__main__\":\n",
        "    app.run(debug=True)\n",
        "\n",
        "#    - For GET: Send a GET request to `http://127.0.0.1:5000/api/data`.\n",
        "#    - For POST: Send a POST request to `http://127.0.0.1:5000/api/data` with a JSON body (e.g., `{\"name\": \"John\", \"age\": 30}`).\n",
        "\n"
      ],
      "metadata": {
        "id": "pFj9XPWIz06t"
      },
      "execution_count": null,
      "outputs": []
    }
  ]
}