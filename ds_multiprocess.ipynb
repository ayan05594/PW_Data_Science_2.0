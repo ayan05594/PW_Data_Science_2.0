{
 "cells": [
  {
   "cell_type": "code",
   "execution_count": null,
   "id": "f8f78d02-fd6d-4a1c-844f-c7a7afcd3c71",
   "metadata": {},
   "outputs": [
    {
     "name": "stdout",
     "output_type": "stream",
     "text": [
      "Process has finished executing.\n"
     ]
    }
   ],
   "source": [
    "# Q1. What is multiprocessing in python? Why is it useful?\n",
    "# Multiprocessing is a technique used in Python to run multiple processes concurrently. \n",
    "# Each process has its own memory space and executes independently. It is useful because \n",
    "# it allows Python to bypass the Global Interpreter Lock (GIL) and use multiple CPU cores,\n",
    "# which is particularly helpful for CPU-bound tasks, providing significant performance improvements.\n",
    "\n",
    "# Q2. What are the differences between multiprocessing and multithreading?\n",
    "\n",
    "# 1. Multiprocessing uses multiple processes, each with its own memory space, whereas multithreading uses multiple threads within the same process.\n",
    "# 2. Multiprocessing can be used to perform CPU-bound tasks efficiently, whereas multithreading is better for I/O-bound tasks.\n",
    "# 3. Multiprocessing bypasses the GIL and can use multiple CPU cores, whereas multithreading is limited by the GIL.\n",
    "# 4. Multiprocessing requires inter-process communication (IPC) mechanisms like queues, while multithreading shares the same memory space.\n",
    "\n",
    "# Q3. Write a python code to create a process using the multiprocessing module.\n",
    "import multiprocessing\n",
    "import time\n",
    "\n",
    "# Function to print a message\n",
    "def print_message():\n",
    "    print(\"Hello from the process!\")\n",
    "\n",
    "# Creating a process\n",
    "process = multiprocessing.Process(target=print_message)\n",
    "\n",
    "# Starting the process\n",
    "process.start()\n",
    "\n",
    "# Wait for the process to finish\n",
    "process.join()\n",
    "\n",
    "print(\"Process has finished executing.\")\n",
    "\n",
    "# Q4. What is a multiprocessing pool in python? Why is it used?\n",
    "# A multiprocessing Pool in Python is a collection of worker processes that can be used to parallelize a function \n",
    "# across multiple input values. It is used to split the workload across multiple processes, improving performance \n",
    "# when handling CPU-bound tasks.\n",
    "\n",
    "# Q5. How can we create a pool of worker processes in python using the multiprocessing module?\n",
    "# We can create a pool of worker processes using the Pool class from the multiprocessing module.\n",
    "\n",
    "from multiprocessing import Pool\n",
    "\n",
    "# Function to square a number\n",
    "def square(n):\n",
    "    return n * n\n",
    "\n",
    "# Create a pool of 4 worker processes\n",
    "with Pool(4) as pool:\n",
    "    result = pool.map(square, [1, 2, 3, 4, 5])  # Apply the 'square' function to each element\n",
    "    print(result)\n",
    "\n",
    "# Q6. Write a python program to create 4 processes, each process should print a different number \n",
    "# using the multiprocessing module in python.\n",
    "\n",
    "def print_number(number):\n",
    "    print(f\"Process {number} is executing.\")\n",
    "\n",
    "# Create 4 processes\n",
    "processes = []\n",
    "\n",
    "for i in range(1, 5):\n",
    "    p = multiprocessing.Process(target=print_number, args=(i,))\n",
    "    processes.append(p)\n",
    "    p.start()\n",
    "\n",
    "# Wait for all processes to finish\n",
    "for p in processes:\n",
    "    p.join()\n",
    "\n",
    "print(\"All processes have finished executing.\")\n"
   ]
  },
  {
   "cell_type": "code",
   "execution_count": null,
   "id": "7c3eee1e-473a-4064-908b-0be0d9b84b9c",
   "metadata": {},
   "outputs": [],
   "source": []
  }
 ],
 "metadata": {
  "kernelspec": {
   "display_name": "Python [conda env:base] *",
   "language": "python",
   "name": "conda-base-py"
  },
  "language_info": {
   "codemirror_mode": {
    "name": "ipython",
    "version": 3
   },
   "file_extension": ".py",
   "mimetype": "text/x-python",
   "name": "python",
   "nbconvert_exporter": "python",
   "pygments_lexer": "ipython3",
   "version": "3.12.4"
  }
 },
 "nbformat": 4,
 "nbformat_minor": 5
}
