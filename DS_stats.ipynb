{
  "nbformat": 4,
  "nbformat_minor": 0,
  "metadata": {
    "colab": {
      "provenance": []
    },
    "kernelspec": {
      "name": "python3",
      "display_name": "Python 3"
    },
    "language_info": {
      "name": "python"
    }
  },
  "cells": [
    {
      "cell_type": "markdown",
      "source": [],
      "metadata": {
        "id": "7nV0-aAUNtaw"
      }
    },
    {
      "cell_type": "markdown",
      "source": [],
      "metadata": {
        "id": "361fGf9NgVkd"
      }
    },
    {
      "cell_type": "code",
      "source": [
        "# Q1. What is Statistics?\n",
        "\"\"\"\n",
        "Statistics is the branch of mathematics that deals with the collection, analysis, interpretation, presentation,\n",
        "and organization of data. It provides methods for drawing conclusions from data and making predictions about\n",
        "future trends.\n",
        "\"\"\"\n",
        "\n",
        "# Q2. Define the different types of statistics and give an example of when each type might be used.\n",
        "\"\"\"\n",
        "There are two main types of statistics:\n",
        "\n",
        "1. Descriptive Statistics:\n",
        "   - Involves summarizing and describing data in a meaningful way.\n",
        "   - Example: Calculating the average income of a group of people or finding the median score of students.\n",
        "\n",
        "2. Inferential Statistics:\n",
        "   - Involves making predictions or inferences about a population based on a sample of data.\n",
        "   - Example: Using sample data to estimate the average height of all people in a city.\n",
        "\"\"\"\n",
        "\n",
        "# Q3. What are the different types of data and how do they differ from each other? Provide an example of each type of data.\n",
        "\"\"\"\n",
        "1. Qualitative Data (Categorical Data):\n",
        "   - Data that represents categories or labels.\n",
        "   - Example: Gender (Male, Female), Color of a car (Red, Blue, Green).\n",
        "\n",
        "2. Quantitative Data (Numerical Data):\n",
        "   - Data that represents quantities or amounts, and can be measured numerically.\n",
        "   - Example: Age, Height, Temperature.\n",
        "\n",
        "Subtypes of Quantitative Data:\n",
        "- Discrete Data: Countable data, usually represented as whole numbers.\n",
        "  Example: Number of children in a family.\n",
        "- Continuous Data: Measurable data that can take any value within a range.\n",
        "  Example: Weight, Temperature.\n",
        "\"\"\"\n",
        "\n",
        "# Q4. Categorize the following datasets with respect to quantitative and qualitative data types:\n",
        "\n",
        "datasets = {\n",
        "    \"Grading in exam\": \"Qualitative (Ordinal)\",  # Categories with order\n",
        "    \"Colour of mangoes\": \"Qualitative (Nominal)\",  # Categories without order\n",
        "    \"Height data of a class\": \"Quantitative (Continuous)\",  # Measured data\n",
        "    \"Number of mangoes exported by a farm\": \"Quantitative (Discrete)\"  # Countable data\n",
        "}\n",
        "print(datasets)\n",
        "\n",
        "# Q5. Explain the concept of levels of measurement and give an example of a variable for each level.\n",
        "\"\"\"\n",
        "Levels of measurement (or scales of measurement) refer to the ways in which variables or data can be classified.\n",
        "There are four main levels:\n",
        "\n",
        "1. Nominal: Data that can be categorized but not ordered.\n",
        "   Example: Hair color (Blond, Brown, Black).\n",
        "\n",
        "2. Ordinal: Data that can be categorized and ordered but the differences between categories are not meaningful.\n",
        "   Example: Education level (High School, Bachelor's, Master's, PhD).\n",
        "\n",
        "3. Interval: Data with ordered categories and meaningful differences between values, but no true zero point.\n",
        "   Example: Temperature (Celsius or Fahrenheit).\n",
        "\n",
        "4. Ratio: Data with ordered categories, meaningful differences, and a true zero point.\n",
        "   Example: Weight, Height.\n",
        "\"\"\"\n",
        "\n",
        "# Q6. Why is it important to understand the level of measurement when analyzing data? Provide an example to illustrate your answer.\n",
        "\"\"\"\n",
        "Understanding the level of measurement is important because it determines the types of statistical analysis you can perform on the data.\n",
        "\n",
        "For example:\n",
        "- With nominal data (e.g., Gender), you can calculate frequencies but not means.\n",
        "- With ratio data (e.g., Height), you can perform all kinds of statistical operations, including calculating the mean and standard deviation.\n",
        "\"\"\"\n",
        "\n",
        "# Q7. How nominal data type is different from ordinal data type.\n",
        "\"\"\"\n",
        "Nominal data refers to categories without any order or ranking, whereas ordinal data has a meaningful order or ranking between categories.\n",
        "\n",
        "Example:\n",
        "- Nominal: Blood type (A, B, O, AB) – no inherent order.\n",
        "- Ordinal: Movie ratings (Poor, Average, Good, Excellent) – there is a meaningful order.\n",
        "\"\"\"\n",
        "\n",
        "# Q8. Which type of plot can be used to display data in terms of range?\n",
        "\"\"\"\n",
        "A Box Plot (also known as a Box-and-Whisker Plot) is used to display data in terms of range, showing the minimum,\n",
        "maximum, median, and interquartile range.\n",
        "\"\"\"\n",
        "\n",
        "# Q9. Describe the difference between descriptive and inferential statistics. Give an example of each type of statistics and explain how they are used.\n",
        "\"\"\"\n",
        "Descriptive Statistics:\n",
        "- Summarizes and describes the features of a dataset.\n",
        "- Example: Mean, median, mode, and standard deviation of test scores in a class.\n",
        "\n",
        "Inferential Statistics:\n",
        "- Makes predictions or generalizations about a population based on a sample of data.\n",
        "- Example: Using a sample of 100 voters to estimate the opinion of all voters in a country.\n",
        "\"\"\"\n",
        "\n",
        "# Q10. What are some common measures of central tendency and variability used in statistics? Explain how each measure can be used to describe a dataset.\n",
        "\"\"\"\n",
        "Measures of Central Tendency:\n",
        "1. Mean: The average of all data points.\n",
        "   Example: The average test score in a class.\n",
        "\n",
        "2. Median: The middle value when the data is sorted in order.\n",
        "   Example: The median income of a group of people.\n",
        "\n",
        "3. Mode: The most frequently occurring value in the data.\n",
        "   Example: The most common color of cars in a parking lot.\n",
        "\n",
        "Measures of Variability (Dispersion):\n",
        "1. Range: The difference between the maximum and minimum values.\n",
        "   Example: The range of temperatures over a week.\n",
        "\n",
        "2. Variance: The average of squared differences from the mean.\n",
        "   Example: The variance of exam scores in a class.\n",
        "\n",
        "3. Standard Deviation: The square root of the variance, showing the spread of data.\n",
        "   Example: The standard deviation of monthly sales in a store.\n",
        "\"\"\"\n"
      ],
      "metadata": {
        "colab": {
          "base_uri": "https://localhost:8080/",
          "height": 159
        },
        "id": "-77AweH2gVzh",
        "outputId": "698c4f0c-2ee0-49b8-ecf5-c8033960804e"
      },
      "execution_count": 7,
      "outputs": [
        {
          "output_type": "stream",
          "name": "stdout",
          "text": [
            "{'Grading in exam': 'Qualitative (Ordinal)', 'Colour of mangoes': 'Qualitative (Nominal)', 'Height data of a class': 'Quantitative (Continuous)', 'Number of mangoes exported by a farm': 'Quantitative (Discrete)'}\n"
          ]
        },
        {
          "output_type": "execute_result",
          "data": {
            "text/plain": [
              "'\\nMeasures of Central Tendency:\\n1. Mean: The average of all data points.\\n   Example: The average test score in a class.\\n\\n2. Median: The middle value when the data is sorted in order.\\n   Example: The median income of a group of people.\\n\\n3. Mode: The most frequently occurring value in the data.\\n   Example: The most common color of cars in a parking lot.\\n\\nMeasures of Variability (Dispersion):\\n1. Range: The difference between the maximum and minimum values.\\n   Example: The range of temperatures over a week.\\n\\n2. Variance: The average of squared differences from the mean.\\n   Example: The variance of exam scores in a class.\\n\\n3. Standard Deviation: The square root of the variance, showing the spread of data.\\n   Example: The standard deviation of monthly sales in a store.\\n'"
            ],
            "application/vnd.google.colaboratory.intrinsic+json": {
              "type": "string"
            }
          },
          "metadata": {},
          "execution_count": 7
        }
      ]
    },
    {
      "cell_type": "code",
      "source": [],
      "metadata": {
        "id": "vpO8gL65hH7G"
      },
      "execution_count": null,
      "outputs": []
    }
  ]
}