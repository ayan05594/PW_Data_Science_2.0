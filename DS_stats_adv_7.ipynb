{
  "nbformat": 4,
  "nbformat_minor": 0,
  "metadata": {
    "colab": {
      "provenance": []
    },
    "kernelspec": {
      "name": "python3",
      "display_name": "Python 3"
    },
    "language_info": {
      "name": "python"
    }
  },
  "cells": [
    {
      "cell_type": "markdown",
      "source": [],
      "metadata": {
        "id": "7nV0-aAUNtaw"
      }
    },
    {
      "cell_type": "code",
      "source": [
        "import numpy as np\n",
        "from scipy.stats import f, f_oneway\n",
        "\n",
        "# Q1: Function to calculate F-value and p-value for a variance ratio test\n",
        "def variance_ratio_test(data1, data2):\n",
        "    \"\"\"\n",
        "    Perform an F-test for variance ratio between two datasets.\n",
        "    \"\"\"\n",
        "    var1, var2 = np.var(data1, ddof=1), np.var(data2, ddof=1)\n",
        "    f_value = var1 / var2 if var1 > var2 else var2 / var1\n",
        "    df1, df2 = len(data1) - 1, len(data2) - 1\n",
        "    p_value = 2 * (1 - f.cdf(f_value, df1, df2))\n",
        "    return f_value, p_value\n",
        "\n",
        "# Q2: Function to calculate the critical F-value\n",
        "def critical_f_value(alpha, df1, df2, two_tailed=True):\n",
        "    \"\"\"\n",
        "    Calculate the critical F-value for a given significance level and degrees of freedom.\n",
        "    \"\"\"\n",
        "    if two_tailed:\n",
        "        alpha /= 2\n",
        "    return f.ppf(1 - alpha, df1, df2)\n",
        "\n",
        "# Q3: Generate random samples and conduct F-test\n",
        "def generate_and_test_variances(size1, size2, var1, var2, alpha=0.05):\n",
        "    sample1 = np.random.normal(0, np.sqrt(var1), size1)\n",
        "    sample2 = np.random.normal(0, np.sqrt(var2), size2)\n",
        "    f_value, p_value = variance_ratio_test(sample1, sample2)\n",
        "    df1, df2 = size1 - 1, size2 - 1\n",
        "    critical_value = critical_f_value(alpha, df1, df2)\n",
        "    return f_value, p_value, critical_value\n",
        "\n",
        "# Q4: Conduct F-test with known variances\n",
        "def f_test_known_variances(var1, var2, n1, n2, alpha=0.05):\n",
        "    f_value = var1 / var2\n",
        "    df1, df2 = n1 - 1, n2 - 1\n",
        "    critical_value = critical_f_value(alpha, df1, df2)\n",
        "    return f_value, critical_value, f_value > critical_value\n",
        "\n",
        "# Q5: Manufacturer's variance claim test\n",
        "def manufacturer_claim_test(sample_var, claimed_var, n, alpha=0.01):\n",
        "    f_value = sample_var / claimed_var\n",
        "    df1, df2 = n - 1, n - 1\n",
        "    critical_value = critical_f_value(alpha, df1, df2)\n",
        "    return f_value, critical_value, f_value > critical_value\n",
        "\n",
        "# Q6: Function to calculate mean and variance of F-distribution\n",
        "def f_distribution_stats(df1, df2):\n",
        "    mean = df2 / (df2 - 2) if df2 > 2 else np.nan\n",
        "    variance = (2 * (df2**2) * (df1 + df2 - 2)) / ((df1 * (df2 - 2)**2 * (df2 - 4))) if df2 > 4 else np.nan\n",
        "    return mean, variance\n",
        "\n",
        "# Q7-Q9: Conduct F-tests for provided datasets\n",
        "def f_test_data(data1, data2, alpha):\n",
        "    f_value, p_value = variance_ratio_test(data1, data2)\n",
        "    df1, df2 = len(data1) - 1, len(data2) - 1\n",
        "    critical_value = critical_f_value(alpha, df1, df2)\n",
        "    return f_value, p_value, critical_value, p_value < alpha\n",
        "\n",
        "# Example Usage\n",
        "# Q4 Example\n",
        "var1, var2, n1, n2 = 10, 15, 12, 12\n",
        "print(f_test_known_variances(var1, var2, n1, n2))\n",
        "\n",
        "# Q5 Example\n",
        "print(manufacturer_claim_test(0.006, 0.005, 25))\n",
        "\n",
        "# Q7 Example\n",
        "data1 = [24, 25, 28, 23, 22, 20, 27]\n",
        "data2 = [31, 33, 35, 30, 32, 36]\n",
        "print(f_test_data(data1, data2, 0.05))\n",
        "\n",
        "# Q9 Example\n",
        "group_a = [80, 85, 90, 92, 87, 83]\n",
        "group_b = [75, 78, 82, 79, 81, 84]\n",
        "print(f_test_data(group_a, group_b, 0.01))\n"
      ],
      "metadata": {
        "colab": {
          "base_uri": "https://localhost:8080/"
        },
        "id": "-77AweH2gVzh",
        "outputId": "f304d92e-9137-4ce9-8594-e3e3730c3eca"
      },
      "execution_count": 6,
      "outputs": [
        {
          "output_type": "stream",
          "name": "stdout",
          "text": [
            "(0.6666666666666666, 3.473699051085809, False)\n",
            "(1.2, 2.966741631292762, False)\n",
            "(1.4551907719609583, 0.6974815747937484, 6.977701858535566, False)\n",
            "(1.9442622950819677, 0.4831043549070688, 14.939605459912224, False)\n"
          ]
        }
      ]
    },
    {
      "cell_type": "code",
      "source": [],
      "metadata": {
        "id": "vpO8gL65hH7G"
      },
      "execution_count": null,
      "outputs": []
    }
  ]
}